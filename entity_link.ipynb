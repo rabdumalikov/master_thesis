{
 "cells": [
  {
   "cell_type": "code",
   "execution_count": 1,
   "metadata": {},
   "outputs": [
    {
     "data": {
      "text/plain": [
       "<numpy.lib.npyio.NpzFile at 0x7ff560743ac0>"
      ]
     },
     "execution_count": 1,
     "metadata": {},
     "output_type": "execute_result"
    }
   ],
   "source": [
    "import numpy as np\n",
    "\n",
    "c4ent = np.load('pretraining_entities/c4_entity_map.npz')\n",
    "c4ent"
   ]
  },
  {
   "cell_type": "code",
   "execution_count": 3,
   "metadata": {},
   "outputs": [
    {
     "name": "stdout",
     "output_type": "stream",
     "text": [
      "http://dbpedia.org/resource/Nitrous_oxide\n",
      "http://dbpedia.org/resource/Recycling_bin\n",
      "http://dbpedia.org/resource/Mazda_Millenia\n",
      "http://dbpedia.org/resource/Medication\n"
     ]
    }
   ],
   "source": [
    "for i, ent in enumerate(c4ent):\n",
    "    print(ent)\n",
    "    if i > 2:\n",
    "        break"
   ]
  },
  {
   "cell_type": "code",
   "execution_count": 5,
   "metadata": {},
   "outputs": [
    {
     "data": {
      "text/html": [
       "<div>\n",
       "<style scoped>\n",
       "    .dataframe tbody tr th:only-of-type {\n",
       "        vertical-align: middle;\n",
       "    }\n",
       "\n",
       "    .dataframe tbody tr th {\n",
       "        vertical-align: top;\n",
       "    }\n",
       "\n",
       "    .dataframe thead th {\n",
       "        text-align: right;\n",
       "    }\n",
       "</style>\n",
       "<table border=\"1\" class=\"dataframe\">\n",
       "  <thead>\n",
       "    <tr style=\"text-align: right;\">\n",
       "      <th></th>\n",
       "      <th>q_entities</th>\n",
       "      <th>a_entities</th>\n",
       "    </tr>\n",
       "  </thead>\n",
       "  <tbody>\n",
       "    <tr>\n",
       "      <th>0</th>\n",
       "      <td>[{'URI': 'http://dbpedia.org/resource/Hot_Tub_...</td>\n",
       "      <td>[]</td>\n",
       "    </tr>\n",
       "    <tr>\n",
       "      <th>1</th>\n",
       "      <td>[{'URI': 'http://dbpedia.org/resource/Internat...</td>\n",
       "      <td>[]</td>\n",
       "    </tr>\n",
       "    <tr>\n",
       "      <th>2</th>\n",
       "      <td>[{'URI': 'http://dbpedia.org/resource/Annie_Aw...</td>\n",
       "      <td>[]</td>\n",
       "    </tr>\n",
       "    <tr>\n",
       "      <th>3</th>\n",
       "      <td>[{'URI': 'http://dbpedia.org/resource/Immigrat...</td>\n",
       "      <td>[]</td>\n",
       "    </tr>\n",
       "    <tr>\n",
       "      <th>4</th>\n",
       "      <td>[{'URI': 'http://dbpedia.org/resource/Puerto_R...</td>\n",
       "      <td>[]</td>\n",
       "    </tr>\n",
       "  </tbody>\n",
       "</table>\n",
       "</div>"
      ],
      "text/plain": [
       "                                          q_entities a_entities\n",
       "0  [{'URI': 'http://dbpedia.org/resource/Hot_Tub_...         []\n",
       "1  [{'URI': 'http://dbpedia.org/resource/Internat...         []\n",
       "2  [{'URI': 'http://dbpedia.org/resource/Annie_Aw...         []\n",
       "3  [{'URI': 'http://dbpedia.org/resource/Immigrat...         []\n",
       "4  [{'URI': 'http://dbpedia.org/resource/Puerto_R...         []"
      ]
     },
     "execution_count": 5,
     "metadata": {},
     "output_type": "execute_result"
    }
   ],
   "source": [
    "import pandas as pd\n",
    "import json\n",
    "\n",
    "# Read the JSONL file line by line and load the data into a list\n",
    "data = []\n",
    "with open('qa_entities/nq_train_entities.jsonl', 'r') as file:\n",
    "    for line in file:\n",
    "        data.append(json.loads(line))\n",
    "\n",
    "# Convert the list of dictionaries to a DataFrame\n",
    "df = pd.DataFrame(data)\n",
    "\n",
    "# Print the resulting DataFrame\n",
    "df.head()"
   ]
  },
  {
   "cell_type": "code",
   "execution_count": 29,
   "metadata": {},
   "outputs": [
    {
     "name": "stdout",
     "output_type": "stream",
     "text": [
      "1960 winter olympics  VS  Walt\n",
      "http://dbpedia.org/resource/1960_Winter_Olympics  VS  http://dbpedia.org/resource/Walt_Disney\n",
      "1960 winter olympics  VS  Walt\n",
      "http://dbpedia.org/resource/1960_Winter_Olympics  VS  http://dbpedia.org/resource/Walt_Disney\n",
      "1960s batman tv series  VS  Burt Ward\n",
      "http://dbpedia.org/resource/Batman_(TV_series)  VS  http://dbpedia.org/resource/Burt_Ward\n",
      "1960s batman tv series  VS  Burt Ward\n",
      "http://dbpedia.org/resource/Batman_(TV_series)  VS  http://dbpedia.org/resource/Burt_Ward\n",
      "1960 winter olympics  VS  Union\n",
      "http://dbpedia.org/resource/1960_Winter_Olympics  VS  http://dbpedia.org/resource/Union_Army\n"
     ]
    }
   ],
   "source": [
    "for i, row in df.iterrows():\n",
    "    #print(row['q_entities'][0]['surfaceForm'])\n",
    "    q_ent = row['q_entities']\n",
    "    a_ent = row['a_entities']\n",
    "\n",
    "    if len(q_ent) == 0:\n",
    "        continue\n",
    "\n",
    "    if '1960' in q_ent[0]['surfaceForm']:\n",
    "        print(q_ent[0]['surfaceForm'], ' VS ', a_ent[0]['surfaceForm'] )\n",
    "        print(q_ent[0]['URI'], ' VS ', a_ent[0]['URI'] )\n",
    "\n",
    "    # if len(a_ent) > 0:\n",
    "    #     print(q_ent[0]['surfaceForm'], ' VS ', a_ent[0]['surfaceForm'] )\n",
    "    # if i > 20:\n",
    "    #     break"
   ]
  }
 ],
 "metadata": {
  "kernelspec": {
   "display_name": "mthesis",
   "language": "python",
   "name": "python3"
  },
  "language_info": {
   "codemirror_mode": {
    "name": "ipython",
    "version": 3
   },
   "file_extension": ".py",
   "mimetype": "text/x-python",
   "name": "python",
   "nbconvert_exporter": "python",
   "pygments_lexer": "ipython3",
   "version": "3.8.16"
  },
  "orig_nbformat": 4
 },
 "nbformat": 4,
 "nbformat_minor": 2
}

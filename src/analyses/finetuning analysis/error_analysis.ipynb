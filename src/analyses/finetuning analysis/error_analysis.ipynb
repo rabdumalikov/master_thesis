{
 "cells": [
  {
   "cell_type": "code",
   "execution_count": 57,
   "metadata": {},
   "outputs": [
    {
     "name": "stdout",
     "output_type": "stream",
     "text": [
      "1365 1365 1365\n"
     ]
    }
   ],
   "source": [
    "import numpy as np\n",
    "\n",
    "def remove_single_quote(array):\n",
    "    return [ a.replace(\"'\",'') for a in array ]\n",
    "    \n",
    "\n",
    "def read_file(file_path):\n",
    "    with open(file_path, 'r') as f:\n",
    "        lines = f.readlines()\n",
    "        questions = lines[0][1:-2].split(', ')\n",
    "        predictions = lines[1][1:-2].split(', ')\n",
    "        ground_truth = lines[2][1:-2].split(', ')\n",
    "\n",
    "    return remove_single_quote(questions), remove_single_quote(predictions), remove_single_quote(ground_truth)\n",
    "\n",
    "\n",
    "qcf, pcf, gcf = read_file('t5-large-{}.txt'.format('cf'))\n",
    "print(len(qcf), len(pcf), len(gcf))"
   ]
  },
  {
   "cell_type": "code",
   "execution_count": 63,
   "metadata": {},
   "outputs": [
    {
     "name": "stdout",
     "output_type": "stream",
     "text": [
      "1365 1365 1365\n"
     ]
    }
   ],
   "source": [
    "import numpy as np\n",
    "\n",
    "def remove_single_quote(array):\n",
    "    return [ a.replace(\"'\",'') for a in array ]\n",
    "    \n",
    "\n",
    "def read_file(file_path):\n",
    "    with open(file_path, 'r') as f:\n",
    "        lines = f.readlines()\n",
    "        questions = lines[0][1:-2].split(', ')\n",
    "        predictions = lines[1][1:-2].split(', ')\n",
    "        ground_truth = lines[2][1:-2].split(', ')\n",
    "\n",
    "    return remove_single_quote(questions), remove_single_quote(predictions), remove_single_quote(ground_truth)\n",
    "\n",
    "\n",
    "q, p, g = read_file('t5-large-{}2.txt'.format('cf'))\n",
    "print(len(q), len(p), len(g))"
   ]
  },
  {
   "cell_type": "code",
   "execution_count": 78,
   "metadata": {},
   "outputs": [
    {
     "name": "stdout",
     "output_type": "stream",
     "text": [
      "24 240\n",
      "35 265\n"
     ]
    },
    {
     "data": {
      "text/plain": [
       "14"
      ]
     },
     "execution_count": 78,
     "metadata": {},
     "output_type": "execute_result"
    }
   ],
   "source": [
    "\n",
    "overlapping1, non_overlapping1 = get_overlaps(qcf, pcf, gcf)\n",
    "overlapping2, non_overlapping2 = get_overlaps(q, p, g)\n",
    "\n",
    "def find_common_question( a1, a2 ):\n",
    "    results = []\n",
    "    for p1, g1, q1 in a1:\n",
    "        for p2, g2, q2 in a2:\n",
    "            if q1 == q2:\n",
    "                results.append((p1, p2, g1, q1))\n",
    "                break\n",
    "    return results\n",
    "\n",
    "results = find_common_question(overlapping1, overlapping2)\n",
    "len(results)\n"
   ]
  },
  {
   "cell_type": "code",
   "execution_count": 71,
   "metadata": {},
   "outputs": [
    {
     "name": "stdout",
     "output_type": "stream",
     "text": [
      "35 265\n"
     ]
    }
   ],
   "source": [
    "def get_overlaps(q, p, g):\n",
    "    overlapping = []\n",
    "    non_overlapping = []\n",
    "    for i, entry in enumerate(p):\n",
    "        if entry == g[i]:\n",
    "            continue\n",
    "        if entry in g[i] or g[i] in entry:\n",
    "            overlapping.append((entry, g[i], q[i]))\n",
    "        else:\n",
    "            non_overlapping.append((entry, g[i], q[i]))\n",
    "\n",
    "    print(len(overlapping), len(non_overlapping))\n",
    "    return overlapping, non_overlapping\n",
    "\n",
    "overlapping, non_overlapping = get_overlaps(q, p, g)"
   ]
  },
  {
   "cell_type": "code",
   "execution_count": 89,
   "metadata": {},
   "outputs": [
    {
     "data": {
      "text/plain": [
       "1.7582417582417582"
      ]
     },
     "execution_count": 89,
     "metadata": {},
     "output_type": "execute_result"
    }
   ],
   "source": [
    "(24/1365)*100 #+ (240/1365)*100"
   ]
  },
  {
   "cell_type": "code",
   "execution_count": 56,
   "metadata": {},
   "outputs": [
    {
     "data": {
      "text/plain": [
       "[('2767',\n",
       "  '27',\n",
       "  'how many games does a football team have to win to be bowl eligible'),\n",
       " ('tlc family of brands', 'tlc', 'who is the owner of the crowne plaza'),\n",
       " ('rockwell grains',\n",
       "  'rockwell',\n",
       "  '\"the most stable mineral at the earths surface\"'),\n",
       " ('25 co g 25 h o l',\n",
       "  '25',\n",
       "  'how many co2 molecules are produced in aerobic respiration'),\n",
       " ('2320594', '232', 'how many wins does tiger woods have on the pga tour'),\n",
       " ('east manhattan',\n",
       "  'manhattan',\n",
       "  'which state was returned to spain after the revolutionary war'),\n",
       " ('graham', 'graham mctavish', 'who played john clark sr on nypd blue'),\n",
       " ('october 1976', '1976', 'when did the last volcano erupt in iceland'),\n",
       " ('2002',\n",
       "  'may 2002',\n",
       "  'in which year was led zepplin refused entry into singapore because the band members had long hair'),\n",
       " ('three volumes', 'three', 'how many winnie the pooh books are there'),\n",
       " ('rockwell odakkuzhal',\n",
       "  'rockwell',\n",
       "  'first jnanpith award was an autor of which language'),\n",
       " ('1626', '62', 'how many seasons of the rugrats are there'),\n",
       " ('september 1947', '1947', 'when did toyota first come to the united states'),\n",
       " ('16 volumes', '16', 'how many books are in the one piece series'),\n",
       " ('july 2 2001', '2001', 'when did television come out in the us'),\n",
       " ('july 1 1971', '1971', 'when did radio shack change to the source'),\n",
       " ('fourth series', 'four', 'what is the final season of downton abbey'),\n",
       " ('chris rea cooper',\n",
       "  'chris rea',\n",
       "  'does archie end up with betty or veronica in riverdale'),\n",
       " ('1389', '138', 'how many goals did mikel score for chelsea'),\n",
       " ('19799', '79', 'how many world series wins does the dodgers have'),\n",
       " ('theater 6', '6', 'what theater number was the aurora shooting in'),\n",
       " ('june 23 1986',\n",
       "  '1986',\n",
       "  'when was the last time vancouver had an earthquake'),\n",
       " ('jack nicholson as john mcclane',\n",
       "  'jack nicholson',\n",
       "  'the cast of a good day to die hard'),\n",
       " ('6 march 2005', '2005', 'when was the first commercial cell phone released')]"
      ]
     },
     "execution_count": 56,
     "metadata": {},
     "output_type": "execute_result"
    }
   ],
   "source": [
    "from random import sample\n",
    "\n",
    "#smpl = sample(non_overlapping, 100)\n",
    "#smpl\n",
    "overlapping"
   ]
  },
  {
   "cell_type": "code",
   "execution_count": 34,
   "metadata": {},
   "outputs": [
    {
     "name": "stdout",
     "output_type": "stream",
     "text": [
      "['_0594'] 1\n",
      "['christian', 'recording', 'artist', '_'] 4\n",
      "['july', '2', '_'] 3\n",
      "['guantanamo', 'bay', '_'] 3\n",
      "['march', '_'] 2\n",
      "['_', 'family', 'of', 'brands'] 4\n",
      "['_', 'emperor'] 2\n",
      "['_n'] 1\n",
      "['between', '1765', 'and', '_'] 4\n",
      "['_', 'as', 'john', 'mcclane'] 4\n",
      "['3_2'] 1\n",
      "['_', 'and', 'friedrich', 'loeffler'] 4\n",
      "['_', 'season'] 2\n",
      "['midwestern', '_'] 2\n",
      "['german', 'botanist', '_'] 3\n",
      "['_67'] 1\n",
      "['14', 'february', '_'] 3\n",
      "['hartsfield', 'jackson', '_', 'international', 'airport'] 5\n",
      "['from', '_'] 2\n",
      "['welsh', 'poet', '_'] 3\n",
      "['16', 'december', '_'] 3\n",
      "['every', 'president', 'since', '_'] 4\n",
      "['theater', '_'] 2\n",
      "['_s'] 1\n",
      "['_', 'and', 'perpetual', 'union'] 4\n",
      "['mostly', 'filmed', 'in', '_'] 4\n",
      "['music', 'is', 'composed', 'by', '_'] 5\n",
      "['_', 'summer', 'olympics'] 3\n",
      "['united', 'states', '_'] 3\n",
      "['olympics', '2016', 'bronze', 'medallist', '_'] 5\n",
      "['_', 'and', '1925'] 3\n",
      "['_', 'world', 'series'] 3\n",
      "['written', 'by', '_', 'luigi', 'creatore'] 5\n",
      "['president', '_'] 2\n",
      "['category', '_'] 2\n",
      "['_a'] 1\n",
      "['of', '_', 'origin'] 3\n",
      "['6', 'march', '_'] 3\n",
      "['_i'] 1\n",
      "['republican', 'secretary', 'of', 'commerce', '_'] 5\n",
      "['_', 'family', 'of', 'brands'] 4\n",
      "['kent', 'county', '_'] 3\n",
      "['july', '_'] 2\n",
      "['_', 'as', 'johnny', 'cash'] 4\n",
      "['november', '26', '_'] 3\n",
      "['_', 'season'] 2\n",
      "['_', 'and', 'northern', 'california', 'goldfields'] 5\n",
      "['_', 'united', 'kingdom'] 3\n",
      "['_', '223'] 2\n",
      "['east', '_'] 2\n",
      "['rococo', 'era', '_'] 3\n",
      "['rapper', '_'] 2\n",
      "['dean', 'torvill', 'and', '_'] 4\n",
      "['scottish', 'postpunk', 'band', '_'] 4\n",
      "['july', '1', '_'] 3\n",
      "['_', 'and', 'crick'] 3\n",
      "['_', 'ethel', 'thayer'] 3\n",
      "['_', 'del', 'norto', 'county', 'california'] 5\n",
      "['_', 'as', 'matt', 'morgan'] 4\n",
      "['ab', 'de', 'villiers', '_'] 4\n",
      "['_', 'connecting', 'mediterranean', 'sea', 'to'] 5\n",
      "['first', '_'] 2\n",
      "['by', '_'] 2\n",
      "['june', '23', '_'] 3\n",
      "64\n"
     ]
    }
   ],
   "source": [
    "count_just_one_extra_token = 0\n",
    "for s1, s2, s3 in overlapping:\n",
    "    \n",
    "    res = s2.replace(s1, '_') if s1 in s2 else s1.replace(s2, '_')\n",
    "    if len(res.split()) <= 5:\n",
    "        print(res.split(), len(res.split()))\n",
    "        count_just_one_extra_token += 1\n",
    "\n",
    "print(count_just_one_extra_token)"
   ]
  },
  {
   "cell_type": "code",
   "execution_count": 82,
   "metadata": {},
   "outputs": [
    {
     "name": "stdout",
     "output_type": "stream",
     "text": [
      "counter=342\n"
     ]
    }
   ],
   "source": [
    "import tarfile\n",
    "import csv\n",
    "import gzip\n",
    "import pandas as pd\n",
    "\n",
    "with tarfile.open('../../disentanglement/their_data/test_sets.csv.tar.gz', 'r:gz') as tar:\n",
    "    for member in tar.getmembers():\n",
    "        if member.name.endswith('.csv'):\n",
    "            csv_file = tar.extractfile(member)\n",
    "            break\n",
    "\n",
    "    test_df = pd.read_csv(csv_file)\n",
    "    tar.close()\n",
    "\n",
    "cf = test_df[test_df['type'] == 'counterfactual']\n",
    "\n",
    "no_way_to_answer_questions = []\n",
    "counter = 0\n",
    "for i, entry in cf.iterrows():\n",
    "    q = entry['question']\n",
    "    c = entry['context']\n",
    "    a = entry['contextual_answer']\n",
    "    pos = c.index(a)\n",
    "    if len(q)+(pos+len(a)) > 396:\n",
    "        no_way_to_answer_questions.append(q)\n",
    "        counter += 1 \n",
    "\n",
    "print(f'{counter=}')"
   ]
  },
  {
   "cell_type": "code",
   "execution_count": 86,
   "metadata": {},
   "outputs": [
    {
     "name": "stdout",
     "output_type": "stream",
     "text": [
      "240\n",
      "157\n"
     ]
    }
   ],
   "source": [
    "#overlapping1, non_overlapping1\n",
    "print(len(non_overlapping1))\n",
    "counter = 0\n",
    "\n",
    "interesting_questions = []\n",
    "\n",
    "for p, g, q in non_overlapping1:\n",
    "    if q in no_way_to_answer_questions:\n",
    "        counter += 1\n",
    "    else:\n",
    "        interesting_questions.append(q)\n",
    "print(counter)"
   ]
  },
  {
   "cell_type": "code",
   "execution_count": 87,
   "metadata": {},
   "outputs": [
    {
     "data": {
      "text/plain": [
       "['\"who won the 2018 womens royal rumble match\"',\n",
       " 'where was part of the classic surfing movie endless summer filmed',\n",
       " 'latest season on keeping up with the kardashians',\n",
       " 'where was the first colony in north america located',\n",
       " 'how many episodes of the killing on netflix',\n",
       " 'who were the judges on dancing on ice 2014',\n",
       " 'where did the allies go after north africa',\n",
       " 'who does tony end up with on skins',\n",
       " 'who plays young agent o in mib 3',\n",
       " 'who sang the songs in the movie beyond the sea',\n",
       " 'who has the best batting average in test cricket',\n",
       " '\"whens the last time army won the army navy game\"',\n",
       " '\"who are the australias got talent judges\"',\n",
       " 'who does betty end up with on riverdale',\n",
       " '\"whats the medal count for canada in the olympics\"',\n",
       " '\"whats the biggest country in western europe\"',\n",
       " 'who sang smoke gets in your eyes first',\n",
       " '\"who plays elsas aunt in once upon a time\"',\n",
       " 'when did michigan last win a national championship',\n",
       " 'what are the band members names of the rolling stones',\n",
       " '\"who won last years ncaa womens basketball\"',\n",
       " 'who is the founder of google and when was it founded',\n",
       " 'who sings in everybody dies in their nightmares',\n",
       " 'where did aeneas go when he left carthage',\n",
       " 'who was first governor general of british india',\n",
       " 'who wrote shes always a woman to me',\n",
       " 'where does the coral sea meet the pacific ocean',\n",
       " 'how long have we been celebrating pi day',\n",
       " '\"who plays chummys mother in call the midwife\"',\n",
       " 'when was the last time america hosted the summer olympics',\n",
       " 'when did the right to buy scheme start',\n",
       " 'when were 7 books removed from the bible',\n",
       " 'where do peaches come from in the us',\n",
       " 'who are the co hosts on the real',\n",
       " 'where does kevins family go in home alone 2',\n",
       " 'guardians of the galaxy blue guy in prison',\n",
       " 'what episode does marnie come back in geordie shore',\n",
       " 'when was the statue of liberty in france built',\n",
       " 'how many episodes of touching evil are there',\n",
       " '\"who won the gold for the mens figure skating\"',\n",
       " 'how many episodes in great british bake off 2017',\n",
       " 'who sings the song let me love you',\n",
       " '\"who won an oscar for schindlers list\"',\n",
       " 'where is the ucla usc game being played',\n",
       " 'who sings gimme some lovin in days of thunder',\n",
       " 'how many times has psg won champions league',\n",
       " 'when was the last summer olympics in the usa',\n",
       " 'who sings the wire season 5 theme song',\n",
       " '\"the worlds tallest jain statue is located in which state of india\"',\n",
       " 'latest series of keeping up with the kardashians',\n",
       " 'who won the battle of britain in ww2',\n",
       " '\"who plays unis in shes the man\"',\n",
       " 'name three large lakes other than the great lakes in the united states',\n",
       " 'most passing yards by nfl qb in a game',\n",
       " '\"whens the last time michigan won a national championship in basketball\"',\n",
       " '\"who has the worlds largest standing army\"',\n",
       " 'when was the last time nebraska voted democrat',\n",
       " 'how many ceos of fortune 500 companies are female',\n",
       " '\"whats the biggest nfl stadium in the united states\"',\n",
       " 'what is the name of the first earthquake early warning system',\n",
       " 'when was how deep is your love released',\n",
       " 'where does the last name hansen come from',\n",
       " 'when did the celebrities enter the big brother house',\n",
       " 'who was on the first season of dwts',\n",
       " '\"who won french open 2017 tennis tournament in mens double category\"',\n",
       " 'when did frank sinatra first sing new york new york',\n",
       " 'all of the states in the northeast region',\n",
       " '\"who has won the canada open womens doubles\"',\n",
       " 'where does the grapes of wrath take place',\n",
       " '\"whens the last time philly won the superbowl\"',\n",
       " 'who sings only love can break your heart',\n",
       " 'who ordered the forbidden city to be built',\n",
       " 'the names of the beaches on d day',\n",
       " '\"who sings youre welcome in moana credits\"',\n",
       " 'who sings god gave rock and roll to you',\n",
       " 'the recipient of first jnanpith award was an author which language',\n",
       " 'who scored fastest 10000 runs in test cricket',\n",
       " '\"who plays drews boyfriend on the night shift\"',\n",
       " '\"whens the last time scotland won the calcutta cup\"',\n",
       " '\"who is ranked 1 in womens tennis\"',\n",
       " 'who missed the plane the day the music died',\n",
       " 'who plays david in alvin and the chipmunks',\n",
       " 'who is the father of lucius in gladiator']"
      ]
     },
     "execution_count": 87,
     "metadata": {},
     "output_type": "execute_result"
    }
   ],
   "source": [
    "interesting_questions"
   ]
  },
  {
   "cell_type": "code",
   "execution_count": 94,
   "metadata": {},
   "outputs": [
    {
     "data": {
      "text/plain": [
       "False"
      ]
     },
     "execution_count": 94,
     "metadata": {},
     "output_type": "execute_result"
    }
   ],
   "source": [
    "import torch\n",
    "hasattr(torch, 'gfloat16')"
   ]
  }
 ],
 "metadata": {
  "kernelspec": {
   "display_name": "mthesis",
   "language": "python",
   "name": "python3"
  },
  "language_info": {
   "codemirror_mode": {
    "name": "ipython",
    "version": 3
   },
   "file_extension": ".py",
   "mimetype": "text/x-python",
   "name": "python",
   "nbconvert_exporter": "python",
   "pygments_lexer": "ipython3",
   "version": "3.8.16"
  },
  "orig_nbformat": 4,
  "vscode": {
   "interpreter": {
    "hash": "53026b7211a590ea50eccfb2fd028675c12b7c291641f52e70f7e622d7ba0f0c"
   }
  }
 },
 "nbformat": 4,
 "nbformat_minor": 2
}

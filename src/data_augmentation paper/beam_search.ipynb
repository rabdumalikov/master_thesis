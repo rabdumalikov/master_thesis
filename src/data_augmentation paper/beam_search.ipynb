{
 "cells": [
  {
   "cell_type": "code",
   "execution_count": 8,
   "metadata": {},
   "outputs": [],
   "source": [
    "import pickle \n",
    "import nltk\n",
    "import pertubations_helper as ph\n",
    "\n",
    "with open('ne_collection.obj', 'rb') as f:\n",
    "    ne_collection = pickle.load(f)\n",
    "\n",
    "with open('pos_collection.obj', 'rb') as f:\n",
    "    pos_collection = pickle.load(f)"
   ]
  },
  {
   "cell_type": "code",
   "execution_count": 2,
   "metadata": {},
   "outputs": [
    {
     "name": "stderr",
     "output_type": "stream",
     "text": [
      "/Users/v/miniconda/envs/mthesis/lib/python3.8/site-packages/tqdm/auto.py:22: TqdmWarning: IProgress not found. Please update jupyter and ipywidgets. See https://ipywidgets.readthedocs.io/en/stable/user_install.html\n",
      "  from .autonotebook import tqdm as notebook_tqdm\n",
      "Found cached dataset squad_v2 (/Users/v/.cache/huggingface/datasets/squad_v2/squad_v2/2.0.0/09187c73c1b837c95d9a249cd97c2c3f1cebada06efe667b4427714b27639b1d)\n",
      "100%|██████████| 2/2 [00:00<00:00, 173.72it/s]\n"
     ]
    }
   ],
   "source": [
    "from datasets import load_dataset\n",
    "\n",
    "squad = load_dataset('squad_v2')"
   ]
  },
  {
   "cell_type": "code",
   "execution_count": 3,
   "metadata": {},
   "outputs": [
    {
     "data": {
      "text/plain": [
       "{'score': 0.9939450621604919, 'start': 0, 'end': 13, 'answer': 'Manuel Romero'}"
      ]
     },
     "execution_count": 3,
     "metadata": {},
     "output_type": "execute_result"
    }
   ],
   "source": [
    "from transformers import pipeline\n",
    "\n",
    "qa_pipeline = pipeline(\n",
    "    \"question-answering\",\n",
    "    model=\"mrm8488/bert-small-finetuned-squadv2\",\n",
    "    tokenizer=\"mrm8488/bert-small-finetuned-squadv2\"\n",
    ")\n",
    "\n",
    "qa_pipeline({\n",
    "    'context': \"Manuel Romero has been working hardly in the repository hugginface/transformers lately\",\n",
    "    'question': \"Who has been working hard for hugginface/transformers lately?\"\n",
    "\n",
    "})"
   ]
  },
  {
   "cell_type": "code",
   "execution_count": 4,
   "metadata": {},
   "outputs": [],
   "source": [
    "import spacy\n",
    "from spacy import displacy\n",
    "\n",
    "ner = spacy.load('en_core_web_sm')"
   ]
  },
  {
   "cell_type": "code",
   "execution_count": 5,
   "metadata": {},
   "outputs": [
    {
     "name": "stdout",
     "output_type": "stream",
     "text": [
      "5094.055555555556\n",
      "5091.84\n"
     ]
    }
   ],
   "source": [
    "import statistics\n",
    "\n",
    "print( statistics.mean( [len(ne_collection[k]) for k in ne_collection]) )\n",
    "print( statistics.mean( [len(pos_collection[k]) for k in pos_collection]) )"
   ]
  },
  {
   "cell_type": "code",
   "execution_count": 7,
   "metadata": {},
   "outputs": [
    {
     "name": "stderr",
     "output_type": "stream",
     "text": [
      "100%|██████████| 1000/1000 [01:08<00:00, 14.51it/s]\n",
      "  2%|▏         | 21/1000 [00:01<01:11, 13.79it/s]1s/it]\n",
      "  0%|          | 2/130319 [01:10<1062:44:13, 29.36s/it]"
     ]
    },
    {
     "name": "stdout",
     "output_type": "stream",
     "text": [
      "What areas did Beyonce compete in when she was growing up?(0.65) vs What areas did Beyonce compete in when herself was growing leafs(0.66) => singing and dancing\n"
     ]
    },
    {
     "name": "stderr",
     "output_type": "stream",
     "text": [
      "  1%|▏         | 13/1000 [00:00<01:15, 13.12it/s]\n",
      "  0%|          | 3/130319 [01:11<595:04:33, 16.44s/it] "
     ]
    },
    {
     "name": "stdout",
     "output_type": "stream",
     "text": [
      "When did Beyonce leave Destiny's Child and become a solo singer?(0.84) vs When did yachting leave Ajax Child and rift a solo singer?(0.86) => 2003\n"
     ]
    },
    {
     "name": "stderr",
     "output_type": "stream",
     "text": [
      "100%|██████████| 1000/1000 [01:09<00:00, 14.38it/s]\n",
      "  0%|          | 3/130319 [02:21<1705:08:32, 47.10s/it]\n"
     ]
    }
   ],
   "source": [
    "import numpy as np\n",
    "from tqdm import tqdm \n",
    "\n",
    "n = 10\n",
    "\n",
    "beam_size = 3\n",
    "\n",
    "new_questions = []\n",
    "for q_ctx in tqdm(squad['train']):\n",
    "    question = q_ctx['question']\n",
    "    context = q_ctx['context']\n",
    "    \n",
    "    score1 = qa_pipeline({'context': context, 'question': question})\n",
    "\n",
    "    question_chunks = question.split()\n",
    "\n",
    "    def is_attack_question( new_question ):\n",
    "        score2 = qa_pipeline({'context': context, 'question': new_question})\n",
    "\n",
    "        if ph.is_undersensitivity_attack( score1, score2 ):\n",
    "            print( f'{question}({round(score1[\"score\"],2)}) vs {new_question}({round(score2[\"score\"],2)}) => {score1[\"answer\"]}')\n",
    "            return True\n",
    "\n",
    "        return False\n",
    "\n",
    "    new_question = ph.pos_pertubation( question, pos_collection, is_attack_question, beam_size=beam_size, n=n)\n",
    "    new_questions.append(new_question)\n",
    "    \n",
    "    if len(new_questions) == 4:\n",
    "        break\n",
    "        "
   ]
  },
  {
   "cell_type": "code",
   "execution_count": null,
   "metadata": {},
   "outputs": [
    {
     "name": "stdout",
     "output_type": "stream",
     "text": [
      "When did Beyonce start becoming popular?(0.38) vs When did Velas Latinas start becoming popular?(0.42) => late 1990s\n",
      "What areas did Beyonce compete in when she was growing up?(0.65) vs What areas did Dunn compete in when she was growing up?(0.66) => singing and dancing\n",
      "When did Beyonce leave Destiny's Child and become a solo singer?(0.84) vs When did the Arab League leave Warsh and become a solo singer?(0.87) => 2003\n",
      "In what city and state did Beyonce  grow up? (0.67) vs In what city and state did Koninklijke Nederlandsche  grow up? (0.7) => Houston, Texas\n"
     ]
    },
    {
     "ename": "KeyboardInterrupt",
     "evalue": "",
     "output_type": "error",
     "traceback": [
      "\u001b[0;31m---------------------------------------------------------------------------\u001b[0m",
      "\u001b[0;31mKeyboardInterrupt\u001b[0m                         Traceback (most recent call last)",
      "Cell \u001b[0;32mIn[8], line 26\u001b[0m\n\u001b[1;32m     23\u001b[0m     \u001b[39mreturn\u001b[39;00m \u001b[39mFalse\u001b[39;00m\n\u001b[1;32m     25\u001b[0m \u001b[39mwhile\u001b[39;00m \u001b[39mTrue\u001b[39;00m:\n\u001b[0;32m---> 26\u001b[0m     new_question \u001b[39m=\u001b[39m ph\u001b[39m.\u001b[39;49mne_pertubation( question, ne_collection, ner, is_attack_question, beam_size\u001b[39m=\u001b[39;49mbeam_size, n\u001b[39m=\u001b[39;49mn)\n\u001b[1;32m     27\u001b[0m     \u001b[39mif\u001b[39;00m new_question \u001b[39m!=\u001b[39m \u001b[39m'\u001b[39m\u001b[39m'\u001b[39m:\n\u001b[1;32m     28\u001b[0m         \u001b[39mbreak\u001b[39;00m\n",
      "File \u001b[0;32m~/Documents/Thesis/master_thesis/src/pertubations_helper.py:10\u001b[0m, in \u001b[0;36mne_pertubation\u001b[0;34m(question, ne_collection, ner, is_attack_question, beam_size, n)\u001b[0m\n\u001b[1;32m      8\u001b[0m \u001b[39mdef\u001b[39;00m \u001b[39mne_pertubation\u001b[39m( question, ne_collection, ner, is_attack_question, beam_size\u001b[39m=\u001b[39m\u001b[39m1\u001b[39m, n\u001b[39m=\u001b[39m\u001b[39m1\u001b[39m ):\n\u001b[0;32m---> 10\u001b[0m     doc \u001b[39m=\u001b[39m ner(question)\n\u001b[1;32m     12\u001b[0m     res \u001b[39m=\u001b[39m [(X\u001b[39m.\u001b[39mtext, X\u001b[39m.\u001b[39mlabel_) \u001b[39mfor\u001b[39;00m X \u001b[39min\u001b[39;00m doc\u001b[39m.\u001b[39ments]\n\u001b[1;32m     14\u001b[0m     \u001b[39mif\u001b[39;00m \u001b[39mnot\u001b[39;00m res:\n",
      "File \u001b[0;32m~/miniconda/envs/mthesis/lib/python3.8/site-packages/spacy/language.py:1008\u001b[0m, in \u001b[0;36mLanguage.__call__\u001b[0;34m(self, text, disable, component_cfg)\u001b[0m\n\u001b[1;32m   1006\u001b[0m     \u001b[39mraise\u001b[39;00m \u001b[39mValueError\u001b[39;00m(Errors\u001b[39m.\u001b[39mE003\u001b[39m.\u001b[39mformat(component\u001b[39m=\u001b[39m\u001b[39mtype\u001b[39m(proc), name\u001b[39m=\u001b[39mname))\n\u001b[1;32m   1007\u001b[0m error_handler \u001b[39m=\u001b[39m \u001b[39mself\u001b[39m\u001b[39m.\u001b[39mdefault_error_handler\n\u001b[0;32m-> 1008\u001b[0m \u001b[39mif\u001b[39;00m \u001b[39mhasattr\u001b[39;49m(proc, \u001b[39m\"\u001b[39;49m\u001b[39mget_error_handler\u001b[39;49m\u001b[39m\"\u001b[39;49m):\n\u001b[1;32m   1009\u001b[0m     error_handler \u001b[39m=\u001b[39m proc\u001b[39m.\u001b[39mget_error_handler()\n\u001b[1;32m   1010\u001b[0m \u001b[39mtry\u001b[39;00m:\n",
      "\u001b[0;31mKeyboardInterrupt\u001b[0m: "
     ]
    }
   ],
   "source": [
    "import numpy as np\n",
    "\n",
    "n = 32\n",
    "\n",
    "beam_size = 3\n",
    "\n",
    "new_questions = []\n",
    "for q_ctx in tqdm(squad['train']):\n",
    "    question = q_ctx['question']\n",
    "    context = q_ctx['context']\n",
    "    \n",
    "    score1 = qa_pipeline({'context': context, 'question': question})\n",
    "\n",
    "    question_chunks = question.split()\n",
    "\n",
    "    def is_attack_question( new_question ):\n",
    "        score2 = qa_pipeline({'context': context, 'question': new_question})\n",
    "\n",
    "        if ph.is_undersensitivity_attack( score1, score2 ):\n",
    "            print( f'{question}({round(score1[\"score\"],2)}) vs {new_question}({round(score2[\"score\"],2)}) => {score1[\"answer\"]}')\n",
    "            return True\n",
    "        \n",
    "        return False\n",
    "\n",
    "    while True:\n",
    "        new_question = ph.ne_pertubation( question, ne_collection, ner, is_attack_question, beam_size=beam_size, n=n)\n",
    "        if new_question != '':\n",
    "            break\n",
    "        \n",
    "    new_questions.append(new_question)\n",
    "    if len(new_questions) == 50:\n",
    "        break"
   ]
  },
  {
   "cell_type": "code",
   "execution_count": null,
   "metadata": {},
   "outputs": [],
   "source": []
  }
 ],
 "metadata": {
  "kernelspec": {
   "display_name": "mthesis",
   "language": "python",
   "name": "python3"
  },
  "language_info": {
   "codemirror_mode": {
    "name": "ipython",
    "version": 3
   },
   "file_extension": ".py",
   "mimetype": "text/x-python",
   "name": "python",
   "nbconvert_exporter": "python",
   "pygments_lexer": "ipython3",
   "version": "3.8.16"
  },
  "orig_nbformat": 4,
  "vscode": {
   "interpreter": {
    "hash": "53026b7211a590ea50eccfb2fd028675c12b7c291641f52e70f7e622d7ba0f0c"
   }
  }
 },
 "nbformat": 4,
 "nbformat_minor": 2
}

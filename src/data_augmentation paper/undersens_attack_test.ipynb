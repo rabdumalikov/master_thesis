{
 "cells": [
  {
   "cell_type": "code",
   "execution_count": 1,
   "metadata": {},
   "outputs": [],
   "source": [
    "import pickle \n",
    "import nltk\n",
    "import pertubations_helper as ph\n",
    "\n",
    "with open('ne_collection.obj', 'rb') as f:\n",
    "    ne_collection = pickle.load(f)\n",
    "\n",
    "with open('pos_collection.obj', 'rb') as f:\n",
    "    pos_collection = pickle.load(f)"
   ]
  },
  {
   "cell_type": "code",
   "execution_count": 2,
   "metadata": {},
   "outputs": [
    {
     "name": "stderr",
     "output_type": "stream",
     "text": [
      "/Users/v/miniconda/envs/mthesis/lib/python3.8/site-packages/tqdm/auto.py:22: TqdmWarning: IProgress not found. Please update jupyter and ipywidgets. See https://ipywidgets.readthedocs.io/en/stable/user_install.html\n",
      "  from .autonotebook import tqdm as notebook_tqdm\n",
      "Found cached dataset squad_v2 (/Users/v/.cache/huggingface/datasets/squad_v2/squad_v2/2.0.0/09187c73c1b837c95d9a249cd97c2c3f1cebada06efe667b4427714b27639b1d)\n",
      "100%|██████████| 2/2 [00:00<00:00, 168.58it/s]\n"
     ]
    }
   ],
   "source": [
    "from datasets import load_dataset\n",
    "\n",
    "squad = load_dataset('squad_v2')"
   ]
  },
  {
   "cell_type": "code",
   "execution_count": 3,
   "metadata": {},
   "outputs": [
    {
     "data": {
      "text/plain": [
       "{'score': 0.9939450621604919, 'start': 0, 'end': 13, 'answer': 'Manuel Romero'}"
      ]
     },
     "execution_count": 3,
     "metadata": {},
     "output_type": "execute_result"
    }
   ],
   "source": [
    "from transformers import pipeline\n",
    "\n",
    "qa_pipeline = pipeline(\n",
    "    \"question-answering\",\n",
    "    model=\"mrm8488/bert-small-finetuned-squadv2\",\n",
    "    tokenizer=\"mrm8488/bert-small-finetuned-squadv2\"\n",
    ")\n",
    "\n",
    "qa_pipeline({\n",
    "    'context': \"Manuel Romero has been working hardly in the repository hugginface/transformers lately\",\n",
    "    'question': \"Who has been working hard for hugginface/transformers lately?\"\n",
    "\n",
    "})"
   ]
  },
  {
   "cell_type": "code",
   "execution_count": 4,
   "metadata": {},
   "outputs": [],
   "source": [
    "import spacy\n",
    "from spacy import displacy\n",
    "\n",
    "ner = spacy.load('en_core_web_sm')"
   ]
  },
  {
   "cell_type": "code",
   "execution_count": 5,
   "metadata": {},
   "outputs": [
    {
     "name": "stdout",
     "output_type": "stream",
     "text": [
      "When did Beyonce start becoming popular?(0.38) vs When did Vocalion start becoming popular?(0.51) => late 1990s\n",
      "When did Beyoncé rise to fame?(0.54) vs When did IANA rise to fame?(0.55) => late 1990s\n",
      "What role did Beyoncé have in Destiny's Child?(0.37) vs What role did Wei Qing have in Destiny's Child?(0.39) => lead singer\n",
      "When did Beyoncé release Dangerously in Love?(0.97) vs When did the Green Power Partnership release Dangerously in Love?(0.97) => 2003\n",
      "What was the name of Beyoncé's first solo album?(0.86) vs What was the name of FIBA's first solo album?(0.88) => Dangerously in Love\n"
     ]
    }
   ],
   "source": [
    "import random\n",
    "\n",
    "interupter = 0\n",
    "\n",
    "for i, q_ctx in enumerate(squad['train']):\n",
    "    question = q_ctx['question']\n",
    "    context = q_ctx['context']\n",
    "\n",
    "    score1 = qa_pipeline({'context': context, 'question': question})\n",
    "\n",
    "    def is_attack_question( new_question ):\n",
    "        global interupter\n",
    "\n",
    "        score2 = qa_pipeline({'context': context, 'question': new_question})\n",
    "        if ph.is_undersensitivity_attack( score1, score2 ):\n",
    "            interupter += 1\n",
    "\n",
    "            print( f'{question}({round(score1[\"score\"],2)}) vs {new_question}({round(score2[\"score\"],2)}) => {score1[\"answer\"]}')\n",
    "    \n",
    "    new_question = ph.ne_pertubation(question, ne_collection, ner, is_attack_question)\n",
    "\n",
    "    if new_question == '':\n",
    "        continue\n",
    "                            \n",
    "    if interupter == 5:\n",
    "        break"
   ]
  },
  {
   "cell_type": "code",
   "execution_count": 7,
   "metadata": {},
   "outputs": [
    {
     "name": "stdout",
     "output_type": "stream",
     "text": [
      "When did Beyonce start becoming popular?(0.38) vs When did Beyonce jurist becoming popular?(0.42) => late 1990s\n",
      "When did Beyonce leave Destiny's Child and become a solo singer?(0.84) vs When did Beyonce leave Destiny's Child and become a solo disc(0.88) => 2003\n",
      "In which decade did Beyonce become famous?(0.79) vs In which decade did Beyonce stereoscopic famous?(0.85) => 1990s\n",
      "What album made her a worldwide known artist?(0.82) vs What album made hydrographer a worldwide known artist?(0.85) => Dangerously in Love\n",
      "When did Beyoncé rise to fame?(0.54) vs When did Beyoncé rise to isotropic(0.61) => late 1990s\n"
     ]
    }
   ],
   "source": [
    "import random\n",
    "\n",
    "interupter = 0\n",
    "\n",
    "for i, q_ctx in enumerate(squad['train']):\n",
    "    question = q_ctx['question']\n",
    "    context = q_ctx['context']\n",
    "    \n",
    "    score1 = qa_pipeline({'context': context, 'question': question})\n",
    "\n",
    "    def is_attack_question( new_question ):\n",
    "        global interupter\n",
    "\n",
    "        score2 = qa_pipeline({'context': context, 'question': new_question})\n",
    "        if ph.is_undersensitivity_attack( score1, score2 ):        \n",
    "            interupter += 1\n",
    "\n",
    "            print( f'{question}({round(score1[\"score\"],2)}) vs {new_question}({round(score2[\"score\"],2)}) => {score1[\"answer\"]}')\n",
    "            return True\n",
    "        \n",
    "        return False\n",
    "\n",
    "    new_question = ph.pos_pertubation(question, pos_collection, is_attack_question)\n",
    "\n",
    "    if interupter == 5:\n",
    "        break"
   ]
  }
 ],
 "metadata": {
  "kernelspec": {
   "display_name": "mthesis",
   "language": "python",
   "name": "python3"
  },
  "language_info": {
   "codemirror_mode": {
    "name": "ipython",
    "version": 3
   },
   "file_extension": ".py",
   "mimetype": "text/x-python",
   "name": "python",
   "nbconvert_exporter": "python",
   "pygments_lexer": "ipython3",
   "version": "3.8.16"
  },
  "orig_nbformat": 4,
  "vscode": {
   "interpreter": {
    "hash": "53026b7211a590ea50eccfb2fd028675c12b7c291641f52e70f7e622d7ba0f0c"
   }
  }
 },
 "nbformat": 4,
 "nbformat_minor": 2
}

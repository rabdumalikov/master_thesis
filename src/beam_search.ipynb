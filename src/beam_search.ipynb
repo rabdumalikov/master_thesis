{
 "cells": [
  {
   "cell_type": "code",
   "execution_count": 1,
   "metadata": {},
   "outputs": [],
   "source": [
    "import pickle \n",
    "import nltk\n",
    "import pertubations_helper as ph\n",
    "\n",
    "with open('ne_collection.obj', 'rb') as f:\n",
    "    ne_collection = pickle.load(f)\n",
    "\n",
    "with open('pos_collection.obj', 'rb') as f:\n",
    "    pos_collection = pickle.load(f)"
   ]
  },
  {
   "cell_type": "code",
   "execution_count": 2,
   "metadata": {},
   "outputs": [
    {
     "name": "stderr",
     "output_type": "stream",
     "text": [
      "/Users/v/miniconda/envs/mthesis/lib/python3.8/site-packages/tqdm/auto.py:22: TqdmWarning: IProgress not found. Please update jupyter and ipywidgets. See https://ipywidgets.readthedocs.io/en/stable/user_install.html\n",
      "  from .autonotebook import tqdm as notebook_tqdm\n",
      "Found cached dataset squad_v2 (/Users/v/.cache/huggingface/datasets/squad_v2/squad_v2/2.0.0/09187c73c1b837c95d9a249cd97c2c3f1cebada06efe667b4427714b27639b1d)\n",
      "100%|██████████| 2/2 [00:00<00:00, 194.31it/s]\n"
     ]
    }
   ],
   "source": [
    "from datasets import load_dataset\n",
    "\n",
    "squad = load_dataset('squad_v2')"
   ]
  },
  {
   "cell_type": "code",
   "execution_count": 3,
   "metadata": {},
   "outputs": [
    {
     "data": {
      "text/plain": [
       "{'score': 0.9939450621604919, 'start': 0, 'end': 13, 'answer': 'Manuel Romero'}"
      ]
     },
     "execution_count": 3,
     "metadata": {},
     "output_type": "execute_result"
    }
   ],
   "source": [
    "from transformers import pipeline\n",
    "\n",
    "qa_pipeline = pipeline(\n",
    "    \"question-answering\",\n",
    "    model=\"mrm8488/bert-small-finetuned-squadv2\",\n",
    "    tokenizer=\"mrm8488/bert-small-finetuned-squadv2\"\n",
    ")\n",
    "\n",
    "qa_pipeline({\n",
    "    'context': \"Manuel Romero has been working hardly in the repository hugginface/transformers lately\",\n",
    "    'question': \"Who has been working hard for hugginface/transformers lately?\"\n",
    "\n",
    "})"
   ]
  },
  {
   "cell_type": "code",
   "execution_count": 4,
   "metadata": {},
   "outputs": [],
   "source": [
    "import spacy\n",
    "from spacy import displacy\n",
    "\n",
    "ner = spacy.load('en_core_web_sm')"
   ]
  },
  {
   "cell_type": "code",
   "execution_count": 5,
   "metadata": {},
   "outputs": [],
   "source": [
    "# import numpy as np\n",
    "\n",
    "# n = 32\n",
    "\n",
    "# beam_width = 2\n",
    "\n",
    "# for i, q_ctx in enumerate(squad['train']):\n",
    "#     question = q_ctx['question']\n",
    "#     context = q_ctx['context']\n",
    "    \n",
    "#     score1 = qa_pipeline({'context': context, 'question': question})\n",
    "\n",
    "#     question_chunks = question.split()\n",
    "\n",
    "#     while True:\n",
    "#         idxs = [ random.randint(0, len(question_chunks) - 1) for i in range(beam_width) ]\n",
    "#         tokens = [ nltk.word_tokenize( question_chunks[idx] ) for idx in idxs ]    \n",
    "#         tags = [ nltk.pos_tag(token)[0] for token in tokens ]\n",
    "\n",
    "#         real_tags = [ tag[1] for tag in tags ]\n",
    "\n",
    "#         if all( np.asarray(real_tags) == real_tags[0] ):\n",
    "#             continue\n",
    "        \n",
    "#         if all([ tag[1] not in ph.excluded_POS_tags for tag in tags ]):\n",
    "#             break\n",
    "\n",
    "#     subs = {}\n",
    "#     for tag in tags:\n",
    "#         substitution = random.choices(pos_collection[tag[1]], k=n)\n",
    "#         subs[tag[1]] = substitution\n",
    "\n",
    "#     k1, k2 = subs.keys()\n",
    "#     v1, v2 = subs.values()\n",
    "\n",
    "#     best_score = score1\n",
    "#     best_question = ''\n",
    "#     for i, v1_ in enumerate(v1):\n",
    "#         new_question_chunks = question_chunks.copy()\n",
    "#         new_question_chunks[idxs[0]] = v1[i]\n",
    "#         for j, v2_ in enumerate(v2):\n",
    "#             new2_question_chunks = new_question_chunks.copy()\n",
    "#             new2_question_chunks[idxs[1]] = v2[j]\n",
    "#             new_question = ' '.join(new2_question_chunks)\n",
    "#             score2 = qa_pipeline({'context': context, 'question': new_question})\n",
    "            \n",
    "#             if score2['score'] > best_score['score'] and \\\n",
    "#                ph.is_undersensitivity_attack( score1, score2 ):\n",
    "\n",
    "#                 best_score = score2\n",
    "#                 best_question = new_question\n",
    "#                 print( f'{question}({round(score1[\"score\"],2)}) vs {new_question}({round(score2[\"score\"],2)}) => {score1[\"answer\"]}')\n",
    "\n",
    "#     print( f'Best score: {best_score[\"score\"]}, {best_question=}' )\n",
    "\n",
    "#     break\n",
    "        "
   ]
  },
  {
   "cell_type": "code",
   "execution_count": 6,
   "metadata": {},
   "outputs": [],
   "source": [
    "# import numpy as np\n",
    "\n",
    "# n = 32\n",
    "\n",
    "# beam_width = 3\n",
    "\n",
    "# for i, q_ctx in enumerate(squad['train']):\n",
    "#     question = q_ctx['question']\n",
    "#     context = q_ctx['context']\n",
    "    \n",
    "#     score1 = qa_pipeline({'context': context, 'question': question})\n",
    "\n",
    "#     question_chunks = question.split()\n",
    "\n",
    "#     while True:\n",
    "#         idxs = [ random.randint(0, len(question_chunks) - 1) for i in range(beam_width) ]\n",
    "#         tokens = [ nltk.word_tokenize( question_chunks[idx] ) for idx in idxs ]    \n",
    "#         tags = [ nltk.pos_tag(token)[0] for token in tokens ]\n",
    "\n",
    "#         real_tags = [ tag[1] for tag in tags ]\n",
    "\n",
    "#         if all( np.asarray(real_tags) == real_tags[0] ):\n",
    "#             continue\n",
    "        \n",
    "#         if all([ tag[1] not in ph.excluded_POS_tags for tag in tags ]):\n",
    "#             break\n",
    "\n",
    "#     subs = []\n",
    "#     for tag in tags:\n",
    "#         substitution = random.choices(pos_collection[tag[1]], k=n)\n",
    "#         subs.append( substitution )\n",
    "\n",
    "#     subs = np.asarray(subs)\n",
    "\n",
    "#     indexes = [0] * beam_width\n",
    "\n",
    "#     best_score = score1.copy()\n",
    "#     best_score['score'] = 0.0\n",
    "\n",
    "#     best_question = ''\n",
    "\n",
    "#     for i in range(n**beam_width):\n",
    "#         new_question_chunks = question_chunks.copy()\n",
    "#         for j, idx in enumerate(indexes):\n",
    "#             new_question_chunks[idxs[j]] = subs[j][idx]\n",
    "        \n",
    "#         new_question = ' '.join(new_question_chunks)\n",
    "#         score2 = qa_pipeline({'context': context, 'question': new_question})\n",
    "\n",
    "#         if score2['score'] > best_score['score'] and \\\n",
    "#               ph.is_undersensitivity_attack( score1, score2 ):\n",
    "#             best_score = score2\n",
    "#             best_question = new_question\n",
    "#             print( f'{question}({round(score1[\"score\"],2)}) vs {new_question}({round(score2[\"score\"],2)}) => {score1[\"answer\"]}')\n",
    "\n",
    "#         for j in reversed(range(beam_width)):\n",
    "#             indexes[j] += 1\n",
    "#             if indexes[j] == n:\n",
    "#                 indexes[j] = 0\n",
    "#             else:\n",
    "#                 break\n",
    "\n",
    "#         if all(np.asarray(indexes) == 0):\n",
    "#             print(indexes)\n",
    "#             break\n",
    "        \n",
    "#     break\n",
    "        "
   ]
  },
  {
   "cell_type": "code",
   "execution_count": 7,
   "metadata": {},
   "outputs": [
    {
     "name": "stdout",
     "output_type": "stream",
     "text": [
      "5094.055555555556\n",
      "5091.84\n"
     ]
    }
   ],
   "source": [
    "import statistics\n",
    "\n",
    "print( statistics.mean( [len(ne_collection[k]) for k in ne_collection]) )\n",
    "print( statistics.mean( [len(pos_collection[k]) for k in pos_collection]) )"
   ]
  },
  {
   "cell_type": "code",
   "execution_count": 13,
   "metadata": {},
   "outputs": [
    {
     "name": "stdout",
     "output_type": "stream",
     "text": [
      "When did Beyonce start becoming popular?(0.38) vs When did Beyonce start ordaining popular?(0.45) => late 1990s\n"
     ]
    }
   ],
   "source": [
    "import numpy as np\n",
    "\n",
    "n = 32\n",
    "\n",
    "beam_size = 1\n",
    "\n",
    "for i, q_ctx in enumerate(squad['train']):\n",
    "    question = q_ctx['question']\n",
    "    context = q_ctx['context']\n",
    "    \n",
    "    score1 = qa_pipeline({'context': context, 'question': question})\n",
    "\n",
    "    question_chunks = question.split()\n",
    "\n",
    "    def is_attack_question( new_question ):\n",
    "        score2 = qa_pipeline({'context': context, 'question': new_question})\n",
    "\n",
    "        if ph.is_undersensitivity_attack( score1, score2 ):\n",
    "            print( f'{question}({round(score1[\"score\"],2)}) vs {new_question}({round(score2[\"score\"],2)}) => {score1[\"answer\"]}')\n",
    "            return True\n",
    "        \n",
    "        return False\n",
    "\n",
    "    new_question = ph.pos_pertubation( question, pos_collection, is_attack_question, beam_size=beam_size, n=n)\n",
    "    \n",
    "    break\n",
    "        "
   ]
  },
  {
   "cell_type": "code",
   "execution_count": 16,
   "metadata": {},
   "outputs": [
    {
     "name": "stdout",
     "output_type": "stream",
     "text": [
      "When did Beyonce start becoming popular?(0.38) vs When did Charterhouse start becoming popular?(0.46) => late 1990s\n",
      "When did Beyonce leave Destiny's Child and become a solo singer?(0.84) vs When did Paul leave Spears and become a solo singer?(0.87) => 2003\n",
      "In what city and state did Beyonce  grow up? (0.67) vs In what city and state did Evander Childs  grow up? (0.67) => Houston, Texas\n",
      "In which decade did Beyonce become famous?(0.79) vs In the next fiscal year did Mandisa become famous?(0.84) => 1990s\n"
     ]
    }
   ],
   "source": [
    "import numpy as np\n",
    "\n",
    "n = 32\n",
    "\n",
    "beam_size = 2\n",
    "\n",
    "new_questions = []\n",
    "for i, q_ctx in enumerate(squad['train']):\n",
    "    question = q_ctx['question']\n",
    "    context = q_ctx['context']\n",
    "    \n",
    "    score1 = qa_pipeline({'context': context, 'question': question})\n",
    "\n",
    "    question_chunks = question.split()\n",
    "\n",
    "    def is_attack_question( new_question ):\n",
    "        score2 = qa_pipeline({'context': context, 'question': new_question})\n",
    "\n",
    "        if ph.is_undersensitivity_attack( score1, score2 ):\n",
    "            print( f'{question}({round(score1[\"score\"],2)}) vs {new_question}({round(score2[\"score\"],2)}) => {score1[\"answer\"]}')\n",
    "            return True\n",
    "        \n",
    "        return False\n",
    "\n",
    "    while True:\n",
    "        new_question = ph.ne_pertubation( question, ne_collection, ner, is_attack_question, beam_size=beam_size, n=n)\n",
    "        if new_question != '':\n",
    "            break\n",
    "        \n",
    "    new_questions.append(new_question)\n",
    "    if len(new_questions) == 5:\n",
    "        break"
   ]
  },
  {
   "cell_type": "code",
   "execution_count": null,
   "metadata": {},
   "outputs": [],
   "source": []
  }
 ],
 "metadata": {
  "kernelspec": {
   "display_name": "mthesis",
   "language": "python",
   "name": "python3"
  },
  "language_info": {
   "codemirror_mode": {
    "name": "ipython",
    "version": 3
   },
   "file_extension": ".py",
   "mimetype": "text/x-python",
   "name": "python",
   "nbconvert_exporter": "python",
   "pygments_lexer": "ipython3",
   "version": "3.8.16"
  },
  "orig_nbformat": 4,
  "vscode": {
   "interpreter": {
    "hash": "53026b7211a590ea50eccfb2fd028675c12b7c291641f52e70f7e622d7ba0f0c"
   }
  }
 },
 "nbformat": 4,
 "nbformat_minor": 2
}

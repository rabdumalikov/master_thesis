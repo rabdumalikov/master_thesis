{
 "cells": [
  {
   "cell_type": "code",
   "execution_count": 1,
   "metadata": {},
   "outputs": [
    {
     "name": "stderr",
     "output_type": "stream",
     "text": [
      "/Users/v/miniconda/envs/mthesis/lib/python3.8/site-packages/tqdm/auto.py:22: TqdmWarning: IProgress not found. Please update jupyter and ipywidgets. See https://ipywidgets.readthedocs.io/en/stable/user_install.html\n",
      "  from .autonotebook import tqdm as notebook_tqdm\n",
      "Found cached dataset squad_v2 (/Users/v/.cache/huggingface/datasets/squad_v2/squad_v2/2.0.0/09187c73c1b837c95d9a249cd97c2c3f1cebada06efe667b4427714b27639b1d)\n",
      "100%|██████████| 2/2 [00:00<00:00, 34.14it/s]\n",
      "[nltk_data] Downloading package punkt to /Users/v/nltk_data...\n",
      "[nltk_data]   Package punkt is already up-to-date!\n",
      "[nltk_data] Downloading package averaged_perceptron_tagger to\n",
      "[nltk_data]     /Users/v/nltk_data...\n",
      "[nltk_data]   Package averaged_perceptron_tagger is already up-to-\n",
      "[nltk_data]       date!\n"
     ]
    },
    {
     "data": {
      "text/plain": [
       "True"
      ]
     },
     "execution_count": 1,
     "metadata": {},
     "output_type": "execute_result"
    }
   ],
   "source": [
    "import nltk\n",
    "from datasets import load_dataset\n",
    "\n",
    "squad = load_dataset('squad_v2')\n",
    "\n",
    "nltk.download('punkt')\n",
    "nltk.download('averaged_perceptron_tagger')"
   ]
  },
  {
   "cell_type": "code",
   "execution_count": 3,
   "metadata": {},
   "outputs": [
    {
     "data": {
      "text/plain": [
       "'Beyoncé Giselle Knowles-Carter (/biːˈjɒnseɪ/ bee-YON-say) (born September 4, 1981) is an American singer, songwriter, record producer and actress. Born and raised in Houston, Texas, she performed in various singing and dancing competitions as a child, and rose to fame in the late 1990s as lead singer of R&B girl-group Destiny\\'s Child. Managed by her father, Mathew Knowles, the group became one of the world\\'s best-selling girl groups of all time. Their hiatus saw the release of Beyoncé\\'s debut album, Dangerously in Love (2003), which established her as a solo artist worldwide, earned five Grammy Awards and featured the Billboard Hot 100 number-one singles \"Crazy in Love\" and \"Baby Boy\".'"
      ]
     },
     "execution_count": 3,
     "metadata": {},
     "output_type": "execute_result"
    }
   ],
   "source": [
    "wikipedia_paragraphs = squad['train']['context']\n",
    "wikipedia_paragraphs[0]"
   ]
  },
  {
   "cell_type": "code",
   "execution_count": null,
   "metadata": {},
   "outputs": [],
   "source": [
    "from tqdm import tqdm\n",
    "\n",
    "excluded_POS_tags = ['IN', 'DT', '.', 'VBD', 'VBZ', 'WP', 'WRB', 'WDT', 'CC', 'MD', 'TO', ')', '(', ',', '$', \"''\", ':', '#', '``']\n",
    "\n",
    "def create_POS_collection( paragraphs ):\n",
    "    output = {}\n",
    "    for p in tqdm(paragraphs):\n",
    "        tokens = nltk.word_tokenize(p)\n",
    "\n",
    "        for word, tag in nltk.pos_tag(tokens):\n",
    "            if tag in excluded_POS_tags:\n",
    "                continue\n",
    "\n",
    "            if tag in output:\n",
    "                output[tag].append(word)\n",
    "            else:\n",
    "                output[tag] = [word]\n",
    "\n",
    "    for k in output.keys():\n",
    "        output[k] = list(set(output[k]))\n",
    "        \n",
    "    return output\n",
    "\n",
    "pos_collection = create_POS_collection(wikipedia_paragraphs)\n",
    "pos_collection\n"
   ]
  },
  {
   "cell_type": "code",
   "execution_count": 10,
   "metadata": {},
   "outputs": [
    {
     "name": "stdout",
     "output_type": "stream",
     "text": [
      "<class 'dict'>\n"
     ]
    }
   ],
   "source": [
    "import pickle\n",
    "\n",
    "with open('pos_collection.obj', 'wb') as handle:\n",
    "    pickle.dump(pos_collection, handle, protocol=pickle.HIGHEST_PROTOCOL)\n"
   ]
  },
  {
   "cell_type": "code",
   "execution_count": 5,
   "metadata": {},
   "outputs": [
    {
     "data": {
      "text/plain": [
       "'When did Beyonce start becoming popular?'"
      ]
     },
     "execution_count": 5,
     "metadata": {},
     "output_type": "execute_result"
    }
   ],
   "source": [
    "question = squad['train']['question'][0]\n",
    "question"
   ]
  },
  {
   "cell_type": "code",
   "execution_count": 11,
   "metadata": {},
   "outputs": [
    {
     "name": "stdout",
     "output_type": "stream",
     "text": [
      "When did Beyonce start becoming popular? vs When did ecosystem start becoming popular?\n",
      "What areas did Beyonce compete in when she was growing up? vs What areas did niece compete in when she was growing up?\n",
      "When did Beyonce leave Destiny's Child and become a solo singer? vs When did Beyonce leave Destiny's Child and become a solo Music\n",
      "In what city and state did Beyonce  grow up?  vs In what city and recollection did Beyonce grow up?\n",
      "In which decade did Beyonce become famous? vs In which decade did Beyonce become fast-flowing\n",
      "In what R&B group was she the lead singer? vs In what R&B group was online the lead singer?\n",
      "What album made her a worldwide known artist? vs What album made her a prowess known artist?\n",
      "Who managed the Destiny's Child group? vs Who sensitized the Destiny's Child group?\n",
      "When did Beyoncé rise to fame? vs When did Wood rise to fame?\n",
      "What role did Beyoncé have in Destiny's Child? vs What role did Beyoncé vary in Destiny's Child?\n"
     ]
    }
   ],
   "source": [
    "import random\n",
    "for question in squad['train']['question'][:10]:\n",
    "    question_chunks = question.split()\n",
    "\n",
    "    while True:\n",
    "        idx = random.randint(0, len(question_chunks) - 1)\n",
    "        token = nltk.word_tokenize( question_chunks[idx] )\n",
    "        tag = nltk.pos_tag(token)[0]\n",
    "        if tag[1] not in excluded_POS_tags:\n",
    "            break\n",
    "\n",
    "    substitute = random.choice(pos_collection[tag[1]])\n",
    "\n",
    "    question_chunks[idx] = ''.join(substitute)\n",
    "    print( f'{question} vs {\" \".join(question_chunks)}')"
   ]
  }
 ],
 "metadata": {
  "kernelspec": {
   "display_name": "mthesis",
   "language": "python",
   "name": "python3"
  },
  "language_info": {
   "codemirror_mode": {
    "name": "ipython",
    "version": 3
   },
   "file_extension": ".py",
   "mimetype": "text/x-python",
   "name": "python",
   "nbconvert_exporter": "python",
   "pygments_lexer": "ipython3",
   "version": "3.8.16"
  },
  "orig_nbformat": 4,
  "vscode": {
   "interpreter": {
    "hash": "53026b7211a590ea50eccfb2fd028675c12b7c291641f52e70f7e622d7ba0f0c"
   }
  }
 },
 "nbformat": 4,
 "nbformat_minor": 2
}
